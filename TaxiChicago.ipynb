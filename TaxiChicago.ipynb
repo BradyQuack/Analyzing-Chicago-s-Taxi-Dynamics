{
 "cells": [
  {
   "cell_type": "markdown",
   "metadata": {},
   "source": [
    "# Analyzing Chicago’s Taxi Dynamics\n",
    "## Overview and Setup\n",
    "Chicago’s vibrant urban environment and extensive transportation network offer a unique opportunity to explore the dynamics of taxi ride services. This project investigates the operational performance of taxi companies, analyzes drop-off patterns across different neighborhoods, and examines the impact of weather on ride durations from the Loop to O’Hare International Airport. Understanding these factors can provide actionable insights for both transportation planners and taxi service providers.\n",
    "### Objectives\n",
    "#### Exploratory Data Analysis: \n",
    "To evaluate and visualize data from two distinct CSV datasets—one detailing taxi companies and their ride volumes over a two-day period, and the other summarizing average drop-offs by Chicago neighborhood during November 2017.\n",
    "#### Hypothesis Testing: \n",
    "To assess whether the average duration of rides from the Loop to O’Hare International Airport changes on rainy Saturdays. This involves formulating statistical hypotheses and performing a two-sample t-test to determine if weather conditions significantly affect ride durations.\n",
    "### Plan and Strategy\n",
    "#### Data Preparation and Exploration\n",
    "(1) Import the CSV datasets using Python’s pandas library.\n",
    "\n",
    "(2) Inspect data types and verify data integrity.\n",
    "\n",
    "(3) Identify key trends through visualizations such as bar charts for taxi company ride volumes and neighborhood drop-off averages.\n",
    "#### Statistical Hypothesis Testing\n",
    "(1) Filter the airport rides data to isolate rides on Saturdays.\n",
    "\n",
    "(2) Further segment the data based on weather conditions (rainy vs. non‑rainy).\n",
    "\n",
    "(3) Formulate and test the hypothesis: “The average duration of rides from the Loop to O’Hare International Airport changes on rainy Saturdays.”\n",
    "\n",
    "(4) Apply a two-sample t-test to compare ride durations between the two groups, with an appropriate significance level (α = 0.05).\n",
    "#### Conclusion\n",
    "(1) Synthesize findings from exploratory analysis and hypothesis testing.\n",
    "\n",
    "(2) Discuss potential factors influencing ride patterns, such as urban layout, weather impact, and company performance.\n",
    "\n",
    "(3) Offer insights and recommendations for stakeholders based on the analytical outcomes."
   ]
  },
  {
   "cell_type": "markdown",
   "metadata": {},
   "source": [
    "## Load Data"
   ]
  },
  {
   "cell_type": "code",
   "execution_count": 1,
   "metadata": {},
   "outputs": [],
   "source": [
    "# Imports\n",
    "import pandas as pd\n",
    "from matplotlib import pyplot as plt\n",
    "import numpy as np\n",
    "from scipy import stats as st"
   ]
  },
  {
   "cell_type": "code",
   "execution_count": 2,
   "metadata": {},
   "outputs": [
    {
     "name": "stdout",
     "output_type": "stream",
     "text": [
      "<class 'pandas.core.frame.DataFrame'>\n",
      "RangeIndex: 1068 entries, 0 to 1067\n",
      "Data columns (total 3 columns):\n",
      " #   Column              Non-Null Count  Dtype  \n",
      "---  ------              --------------  -----  \n",
      " 0   start_ts            1068 non-null   object \n",
      " 1   weather_conditions  1068 non-null   object \n",
      " 2   duration_seconds    1068 non-null   float64\n",
      "dtypes: float64(1), object(2)\n",
      "memory usage: 25.2+ KB\n",
      "None\n",
      "<class 'pandas.core.frame.DataFrame'>\n",
      "RangeIndex: 64 entries, 0 to 63\n",
      "Data columns (total 2 columns):\n",
      " #   Column        Non-Null Count  Dtype \n",
      "---  ------        --------------  ----- \n",
      " 0   company_name  64 non-null     object\n",
      " 1   trips_amount  64 non-null     int64 \n",
      "dtypes: int64(1), object(1)\n",
      "memory usage: 1.1+ KB\n",
      "None\n",
      "<class 'pandas.core.frame.DataFrame'>\n",
      "RangeIndex: 94 entries, 0 to 93\n",
      "Data columns (total 2 columns):\n",
      " #   Column                 Non-Null Count  Dtype  \n",
      "---  ------                 --------------  -----  \n",
      " 0   dropoff_location_name  94 non-null     object \n",
      " 1   average_trips          94 non-null     float64\n",
      "dtypes: float64(1), object(1)\n",
      "memory usage: 1.6+ KB\n",
      "None\n"
     ]
    }
   ],
   "source": [
    "# Create dfs\n",
    "airport = pd.read_csv('/datasets/project_sql_result_07.csv')\n",
    "company = pd.read_csv('/datasets/project_sql_result_01.csv')\n",
    "dropoff = pd.read_csv('/datasets/project_sql_result_04.csv')\n",
    "print(airport.info())\n",
    "print(company.info())\n",
    "print(dropoff.info())"
   ]
  },
  {
   "cell_type": "code",
   "execution_count": 3,
   "metadata": {},
   "outputs": [
    {
     "name": "stdout",
     "output_type": "stream",
     "text": [
      "<class 'pandas.core.frame.DataFrame'>\n",
      "Int64Index: 871 entries, 0 to 1067\n",
      "Data columns (total 3 columns):\n",
      " #   Column              Non-Null Count  Dtype  \n",
      "---  ------              --------------  -----  \n",
      " 0   start_ts            871 non-null    object \n",
      " 1   weather_conditions  871 non-null    object \n",
      " 2   duration_seconds    871 non-null    float64\n",
      "dtypes: float64(1), object(2)\n",
      "memory usage: 27.2+ KB\n",
      "None\n",
      "<class 'pandas.core.frame.DataFrame'>\n",
      "Int64Index: 64 entries, 0 to 63\n",
      "Data columns (total 2 columns):\n",
      " #   Column        Non-Null Count  Dtype \n",
      "---  ------        --------------  ----- \n",
      " 0   company_name  64 non-null     object\n",
      " 1   trips_amount  64 non-null     int64 \n",
      "dtypes: int64(1), object(1)\n",
      "memory usage: 1.5+ KB\n",
      "None\n",
      "<class 'pandas.core.frame.DataFrame'>\n",
      "Int64Index: 94 entries, 0 to 93\n",
      "Data columns (total 2 columns):\n",
      " #   Column                 Non-Null Count  Dtype  \n",
      "---  ------                 --------------  -----  \n",
      " 0   dropoff_location_name  94 non-null     object \n",
      " 1   average_trips          94 non-null     float64\n",
      "dtypes: float64(1), object(1)\n",
      "memory usage: 2.2+ KB\n",
      "None\n"
     ]
    }
   ],
   "source": [
    "# drop duplicates\n",
    "airport = airport.drop_duplicates()\n",
    "company = company.drop_duplicates()\n",
    "dropoff = dropoff.drop_duplicates()\n",
    "print(airport.info())\n",
    "print(company.info())\n",
    "print(dropoff.info())"
   ]
  },
  {
   "cell_type": "code",
   "execution_count": 4,
   "metadata": {},
   "outputs": [
    {
     "data": {
      "text/html": [
       "<div>\n",
       "<style scoped>\n",
       "    .dataframe tbody tr th:only-of-type {\n",
       "        vertical-align: middle;\n",
       "    }\n",
       "\n",
       "    .dataframe tbody tr th {\n",
       "        vertical-align: top;\n",
       "    }\n",
       "\n",
       "    .dataframe thead th {\n",
       "        text-align: right;\n",
       "    }\n",
       "</style>\n",
       "<table border=\"1\" class=\"dataframe\">\n",
       "  <thead>\n",
       "    <tr style=\"text-align: right;\">\n",
       "      <th></th>\n",
       "      <th>start_ts</th>\n",
       "      <th>weather_conditions</th>\n",
       "      <th>duration_seconds</th>\n",
       "    </tr>\n",
       "  </thead>\n",
       "  <tbody>\n",
       "    <tr>\n",
       "      <th>33</th>\n",
       "      <td>2017-11-04 12:00:00</td>\n",
       "      <td>Good</td>\n",
       "      <td>2580.0</td>\n",
       "    </tr>\n",
       "    <tr>\n",
       "      <th>195</th>\n",
       "      <td>2017-11-11 07:00:00</td>\n",
       "      <td>Good</td>\n",
       "      <td>1140.0</td>\n",
       "    </tr>\n",
       "    <tr>\n",
       "      <th>619</th>\n",
       "      <td>2017-11-25 14:00:00</td>\n",
       "      <td>Good</td>\n",
       "      <td>6420.0</td>\n",
       "    </tr>\n",
       "    <tr>\n",
       "      <th>1042</th>\n",
       "      <td>2017-11-11 05:00:00</td>\n",
       "      <td>Good</td>\n",
       "      <td>1380.0</td>\n",
       "    </tr>\n",
       "    <tr>\n",
       "      <th>222</th>\n",
       "      <td>2017-11-04 10:00:00</td>\n",
       "      <td>Good</td>\n",
       "      <td>2479.0</td>\n",
       "    </tr>\n",
       "  </tbody>\n",
       "</table>\n",
       "</div>"
      ],
      "text/plain": [
       "                 start_ts weather_conditions  duration_seconds\n",
       "33    2017-11-04 12:00:00               Good            2580.0\n",
       "195   2017-11-11 07:00:00               Good            1140.0\n",
       "619   2017-11-25 14:00:00               Good            6420.0\n",
       "1042  2017-11-11 05:00:00               Good            1380.0\n",
       "222   2017-11-04 10:00:00               Good            2479.0"
      ]
     },
     "execution_count": 4,
     "metadata": {},
     "output_type": "execute_result"
    }
   ],
   "source": [
    "airport.sample(5)"
   ]
  },
  {
   "cell_type": "code",
   "execution_count": 5,
   "metadata": {},
   "outputs": [
    {
     "data": {
      "text/html": [
       "<div>\n",
       "<style scoped>\n",
       "    .dataframe tbody tr th:only-of-type {\n",
       "        vertical-align: middle;\n",
       "    }\n",
       "\n",
       "    .dataframe tbody tr th {\n",
       "        vertical-align: top;\n",
       "    }\n",
       "\n",
       "    .dataframe thead th {\n",
       "        text-align: right;\n",
       "    }\n",
       "</style>\n",
       "<table border=\"1\" class=\"dataframe\">\n",
       "  <thead>\n",
       "    <tr style=\"text-align: right;\">\n",
       "      <th></th>\n",
       "      <th>company_name</th>\n",
       "      <th>trips_amount</th>\n",
       "    </tr>\n",
       "  </thead>\n",
       "  <tbody>\n",
       "    <tr>\n",
       "      <th>22</th>\n",
       "      <td>Chicago Independents</td>\n",
       "      <td>1296</td>\n",
       "    </tr>\n",
       "    <tr>\n",
       "      <th>51</th>\n",
       "      <td>4623 - 27290 Jay Kim</td>\n",
       "      <td>15</td>\n",
       "    </tr>\n",
       "    <tr>\n",
       "      <th>49</th>\n",
       "      <td>5074 - 54002 Ahzmi Inc</td>\n",
       "      <td>16</td>\n",
       "    </tr>\n",
       "    <tr>\n",
       "      <th>46</th>\n",
       "      <td>3620 - 52292 David K. Cab Corp.</td>\n",
       "      <td>21</td>\n",
       "    </tr>\n",
       "    <tr>\n",
       "      <th>17</th>\n",
       "      <td>Chicago Medallion Management</td>\n",
       "      <td>1955</td>\n",
       "    </tr>\n",
       "  </tbody>\n",
       "</table>\n",
       "</div>"
      ],
      "text/plain": [
       "                       company_name  trips_amount\n",
       "22             Chicago Independents          1296\n",
       "51             4623 - 27290 Jay Kim            15\n",
       "49           5074 - 54002 Ahzmi Inc            16\n",
       "46  3620 - 52292 David K. Cab Corp.            21\n",
       "17     Chicago Medallion Management          1955"
      ]
     },
     "execution_count": 5,
     "metadata": {},
     "output_type": "execute_result"
    }
   ],
   "source": [
    "company.sample(5)"
   ]
  },
  {
   "cell_type": "code",
   "execution_count": 6,
   "metadata": {},
   "outputs": [
    {
     "data": {
      "text/html": [
       "<div>\n",
       "<style scoped>\n",
       "    .dataframe tbody tr th:only-of-type {\n",
       "        vertical-align: middle;\n",
       "    }\n",
       "\n",
       "    .dataframe tbody tr th {\n",
       "        vertical-align: top;\n",
       "    }\n",
       "\n",
       "    .dataframe thead th {\n",
       "        text-align: right;\n",
       "    }\n",
       "</style>\n",
       "<table border=\"1\" class=\"dataframe\">\n",
       "  <thead>\n",
       "    <tr style=\"text-align: right;\">\n",
       "      <th></th>\n",
       "      <th>dropoff_location_name</th>\n",
       "      <th>average_trips</th>\n",
       "    </tr>\n",
       "  </thead>\n",
       "  <tbody>\n",
       "    <tr>\n",
       "      <th>5</th>\n",
       "      <td>Lake View</td>\n",
       "      <td>2420.966667</td>\n",
       "    </tr>\n",
       "    <tr>\n",
       "      <th>48</th>\n",
       "      <td>Austin</td>\n",
       "      <td>44.433333</td>\n",
       "    </tr>\n",
       "    <tr>\n",
       "      <th>22</th>\n",
       "      <td>Lincoln Square</td>\n",
       "      <td>356.733333</td>\n",
       "    </tr>\n",
       "    <tr>\n",
       "      <th>54</th>\n",
       "      <td>North Lawndale</td>\n",
       "      <td>32.166667</td>\n",
       "    </tr>\n",
       "    <tr>\n",
       "      <th>77</th>\n",
       "      <td>Archer Heights</td>\n",
       "      <td>8.366667</td>\n",
       "    </tr>\n",
       "  </tbody>\n",
       "</table>\n",
       "</div>"
      ],
      "text/plain": [
       "   dropoff_location_name  average_trips\n",
       "5              Lake View    2420.966667\n",
       "48                Austin      44.433333\n",
       "22        Lincoln Square     356.733333\n",
       "54        North Lawndale      32.166667\n",
       "77        Archer Heights       8.366667"
      ]
     },
     "execution_count": 6,
     "metadata": {},
     "output_type": "execute_result"
    }
   ],
   "source": [
    "dropoff.sample(5)"
   ]
  },
  {
   "cell_type": "code",
   "execution_count": 7,
   "metadata": {},
   "outputs": [
    {
     "name": "stdout",
     "output_type": "stream",
     "text": [
      "<class 'pandas.core.frame.DataFrame'>\n",
      "Int64Index: 871 entries, 0 to 1067\n",
      "Data columns (total 3 columns):\n",
      " #   Column              Non-Null Count  Dtype         \n",
      "---  ------              --------------  -----         \n",
      " 0   start_ts            871 non-null    datetime64[ns]\n",
      " 1   weather_conditions  871 non-null    object        \n",
      " 2   duration_seconds    871 non-null    float64       \n",
      "dtypes: datetime64[ns](1), float64(1), object(1)\n",
      "memory usage: 27.2+ KB\n"
     ]
    }
   ],
   "source": [
    "# to datetime\n",
    "airport['start_ts'] = pd.to_datetime(airport['start_ts'])\n",
    "airport.info()"
   ]
  },
  {
   "cell_type": "markdown",
   "metadata": {},
   "source": [
    "### Summary:\n",
    "In the airport rides data, there are three columns: \"start_ts,\" \"weather_conditions,\" and \"duration_seconds.\" Although all entries are non-null, the \"start_ts\" column is currently stored as an object; needs to be converted to datetime for time-based analyses. The company dataset contains \"company_name\" and \"trips_amount,\" with no missing values, and the column names appear to be self-explanatory. The dropoff dataset includes \"dropoff_location_name\" and \"average_trips,\" and it too shows no missing values. Overall, the data types are generally appropriate, but a conversion of the \"start_ts\" column to datetime would optimize the airport dataset for further time-series analysis."
   ]
  },
  {
   "cell_type": "markdown",
   "metadata": {},
   "source": [
    "## EDA"
   ]
  },
  {
   "cell_type": "code",
   "execution_count": 8,
   "metadata": {},
   "outputs": [
    {
     "data": {
      "image/png": "[encoded data removed]",
      "text/plain": [
       "<Figure size 640x480 with 1 Axes>"
      ]
     },
     "metadata": {},
     "output_type": "display_data"
    }
   ],
   "source": [
    "# Taxi Companies and Number of Rides\n",
    "top20_companies = company.sort_values(by='trips_amount', ascending=False).head(20)\n",
    "\n",
    "top20_companies.plot(\n",
    "    x='company_name',\n",
    "    y='trips_amount',\n",
    "    kind='barh',\n",
    "    title='Taxi Companies and Number of Rides',\n",
    "    legend=False\n",
    ")\n",
    "plt.ylabel('Taxi Company')\n",
    "plt.xlabel('Number of Rides')\n",
    "plt.show()"
   ]
  },
  {
   "cell_type": "markdown",
   "metadata": {},
   "source": [
    "### Summary:\n",
    "Based on the sorted data, Flash Cab leads the market with 19,558 trips, followed by Taxi Affiliation Services and Medallion Leasing, indicating that the largest companies have a significant share of the total rides. This distribution suggests that market dominance in the taxi industry is closely linked to brand presence, network coverage, and operational efficiency. Larger companies, often supported by extensive fleets and robust logistical infrastructures, are likely to benefit from economies of scale and customer trust. In contrast, smaller operators like 303 Taxi and 5 Star Taxi, with lower trip counts, may be targeting niche markets or local neighborhoods. For business stakeholders, these insights highlight the competitive advantages of scale and integrated services, emphasizing the importance of strategic investments in fleet expansion and customer service improvements to capture a larger market share in a highly competitive urban transportation landscape."
   ]
  },
  {
   "cell_type": "code",
   "execution_count": 9,
   "metadata": {},
   "outputs": [
    {
     "data": {
      "text/html": [
       "<div>\n",
       "<style scoped>\n",
       "    .dataframe tbody tr th:only-of-type {\n",
       "        vertical-align: middle;\n",
       "    }\n",
       "\n",
       "    .dataframe tbody tr th {\n",
       "        vertical-align: top;\n",
       "    }\n",
       "\n",
       "    .dataframe thead th {\n",
       "        text-align: right;\n",
       "    }\n",
       "</style>\n",
       "<table border=\"1\" class=\"dataframe\">\n",
       "  <thead>\n",
       "    <tr style=\"text-align: right;\">\n",
       "      <th></th>\n",
       "      <th>dropoff_location_name</th>\n",
       "      <th>average_trips</th>\n",
       "    </tr>\n",
       "  </thead>\n",
       "  <tbody>\n",
       "    <tr>\n",
       "      <th>0</th>\n",
       "      <td>Loop</td>\n",
       "      <td>10727.466667</td>\n",
       "    </tr>\n",
       "    <tr>\n",
       "      <th>1</th>\n",
       "      <td>River North</td>\n",
       "      <td>9523.666667</td>\n",
       "    </tr>\n",
       "    <tr>\n",
       "      <th>2</th>\n",
       "      <td>Streeterville</td>\n",
       "      <td>6664.666667</td>\n",
       "    </tr>\n",
       "    <tr>\n",
       "      <th>3</th>\n",
       "      <td>West Loop</td>\n",
       "      <td>5163.666667</td>\n",
       "    </tr>\n",
       "    <tr>\n",
       "      <th>4</th>\n",
       "      <td>O'Hare</td>\n",
       "      <td>2546.900000</td>\n",
       "    </tr>\n",
       "    <tr>\n",
       "      <th>5</th>\n",
       "      <td>Lake View</td>\n",
       "      <td>2420.966667</td>\n",
       "    </tr>\n",
       "    <tr>\n",
       "      <th>6</th>\n",
       "      <td>Grant Park</td>\n",
       "      <td>2068.533333</td>\n",
       "    </tr>\n",
       "    <tr>\n",
       "      <th>7</th>\n",
       "      <td>Museum Campus</td>\n",
       "      <td>1510.000000</td>\n",
       "    </tr>\n",
       "    <tr>\n",
       "      <th>8</th>\n",
       "      <td>Gold Coast</td>\n",
       "      <td>1364.233333</td>\n",
       "    </tr>\n",
       "    <tr>\n",
       "      <th>9</th>\n",
       "      <td>Sheffield &amp; DePaul</td>\n",
       "      <td>1259.766667</td>\n",
       "    </tr>\n",
       "  </tbody>\n",
       "</table>\n",
       "</div>"
      ],
      "text/plain": [
       "  dropoff_location_name  average_trips\n",
       "0                  Loop   10727.466667\n",
       "1           River North    9523.666667\n",
       "2         Streeterville    6664.666667\n",
       "3             West Loop    5163.666667\n",
       "4                O'Hare    2546.900000\n",
       "5             Lake View    2420.966667\n",
       "6            Grant Park    2068.533333\n",
       "7         Museum Campus    1510.000000\n",
       "8            Gold Coast    1364.233333\n",
       "9    Sheffield & DePaul    1259.766667"
      ]
     },
     "execution_count": 9,
     "metadata": {},
     "output_type": "execute_result"
    }
   ],
   "source": [
    "# Top 10 neighborhoods\n",
    "top10_neighborhoods = dropoff.sort_values(by='average_trips', ascending=False).head(10)\n",
    "top10_neighborhoods"
   ]
  },
  {
   "cell_type": "code",
   "execution_count": 10,
   "metadata": {},
   "outputs": [
    {
     "data": {
      "image/png": "[encoded data removed]",
      "text/plain": [
       "<Figure size 1000x600 with 1 Axes>"
      ]
     },
     "metadata": {},
     "output_type": "display_data"
    }
   ],
   "source": [
    "# plot\n",
    "top10_neighborhoods.plot(\n",
    "    x='dropoff_location_name',\n",
    "    y='average_trips',\n",
    "    kind='bar',\n",
    "    title='Top 10 Neighborhoods by Number of Dropoffs',\n",
    "    xlabel='Neighborhoods',\n",
    "    ylabel='Number of Dropoffs',\n",
    "    figsize=(10, 6), legend=False\n",
    ")\n",
    "plt.show()"
   ]
  },
  {
   "cell_type": "markdown",
   "metadata": {},
   "source": [
    "### Summary:\n",
    "The top 10 neighborhoods by average drop-offs reveal key areas of high taxi demand in Chicago. The Loop leads significantly, reflecting its role as a central business and transit hub, followed by River North and Streeterville, which attract a mix of residents, professionals, and tourists. Other neighborhoods such as West Loop, O'Hare, Lake View, Grant Park, Museum Campus, Gold Coast, and Sheffield & DePaul highlight diverse market segments, from urban development to leisure and tourism. These insights emphasize the potential for targeted investments in robust taxi services in these high-demand areas."
   ]
  },
  {
   "cell_type": "markdown",
   "metadata": {},
   "source": [
    "## Hypothesis Testing\n",
    "H0: The average duration of rides from the Loop to O'Hare International Airport are equal on rainy Saturdays.\n",
    "\n",
    "H1: The average duration of rides from the Loop to O'Hare International Airport are different on rainy Saturdays."
   ]
  },
  {
   "cell_type": "code",
   "execution_count": 12,
   "metadata": {},
   "outputs": [
    {
     "data": {
      "text/html": [
       "<div>\n",
       "<style scoped>\n",
       "    .dataframe tbody tr th:only-of-type {\n",
       "        vertical-align: middle;\n",
       "    }\n",
       "\n",
       "    .dataframe tbody tr th {\n",
       "        vertical-align: top;\n",
       "    }\n",
       "\n",
       "    .dataframe thead th {\n",
       "        text-align: right;\n",
       "    }\n",
       "</style>\n",
       "<table border=\"1\" class=\"dataframe\">\n",
       "  <thead>\n",
       "    <tr style=\"text-align: right;\">\n",
       "      <th></th>\n",
       "      <th>start_ts</th>\n",
       "      <th>weather_conditions</th>\n",
       "      <th>duration_seconds</th>\n",
       "      <th>day_of_week</th>\n",
       "    </tr>\n",
       "  </thead>\n",
       "  <tbody>\n",
       "    <tr>\n",
       "      <th>92</th>\n",
       "      <td>2017-11-18 07:00:00</td>\n",
       "      <td>Bad</td>\n",
       "      <td>1511.0</td>\n",
       "      <td>Saturday</td>\n",
       "    </tr>\n",
       "    <tr>\n",
       "      <th>182</th>\n",
       "      <td>2017-11-11 11:00:00</td>\n",
       "      <td>Good</td>\n",
       "      <td>2054.0</td>\n",
       "      <td>Saturday</td>\n",
       "    </tr>\n",
       "    <tr>\n",
       "      <th>580</th>\n",
       "      <td>2017-11-04 13:00:00</td>\n",
       "      <td>Good</td>\n",
       "      <td>3420.0</td>\n",
       "      <td>Saturday</td>\n",
       "    </tr>\n",
       "    <tr>\n",
       "      <th>87</th>\n",
       "      <td>2017-11-18 05:00:00</td>\n",
       "      <td>Good</td>\n",
       "      <td>2075.0</td>\n",
       "      <td>Saturday</td>\n",
       "    </tr>\n",
       "    <tr>\n",
       "      <th>605</th>\n",
       "      <td>2017-11-04 15:00:00</td>\n",
       "      <td>Good</td>\n",
       "      <td>3420.0</td>\n",
       "      <td>Saturday</td>\n",
       "    </tr>\n",
       "  </tbody>\n",
       "</table>\n",
       "</div>"
      ],
      "text/plain": [
       "               start_ts weather_conditions  duration_seconds day_of_week\n",
       "92  2017-11-18 07:00:00                Bad            1511.0    Saturday\n",
       "182 2017-11-11 11:00:00               Good            2054.0    Saturday\n",
       "580 2017-11-04 13:00:00               Good            3420.0    Saturday\n",
       "87  2017-11-18 05:00:00               Good            2075.0    Saturday\n",
       "605 2017-11-04 15:00:00               Good            3420.0    Saturday"
      ]
     },
     "execution_count": 12,
     "metadata": {},
     "output_type": "execute_result"
    }
   ],
   "source": [
    "# Test Hypothesis\n",
    "# add day of week column\n",
    "airport['day_of_week'] = airport['start_ts'].dt.day_name()\n",
    "airport.sample(5)"
   ]
  },
  {
   "cell_type": "code",
   "execution_count": 13,
   "metadata": {},
   "outputs": [
    {
     "data": {
      "text/html": [
       "<div>\n",
       "<style scoped>\n",
       "    .dataframe tbody tr th:only-of-type {\n",
       "        vertical-align: middle;\n",
       "    }\n",
       "\n",
       "    .dataframe tbody tr th {\n",
       "        vertical-align: top;\n",
       "    }\n",
       "\n",
       "    .dataframe thead th {\n",
       "        text-align: right;\n",
       "    }\n",
       "</style>\n",
       "<table border=\"1\" class=\"dataframe\">\n",
       "  <thead>\n",
       "    <tr style=\"text-align: right;\">\n",
       "      <th></th>\n",
       "      <th>start_ts</th>\n",
       "      <th>weather_conditions</th>\n",
       "      <th>duration_seconds</th>\n",
       "      <th>day_of_week</th>\n",
       "    </tr>\n",
       "  </thead>\n",
       "  <tbody>\n",
       "    <tr>\n",
       "      <th>0</th>\n",
       "      <td>2017-11-25 16:00:00</td>\n",
       "      <td>Good</td>\n",
       "      <td>2410.0</td>\n",
       "      <td>Saturday</td>\n",
       "    </tr>\n",
       "    <tr>\n",
       "      <th>1</th>\n",
       "      <td>2017-11-25 14:00:00</td>\n",
       "      <td>Good</td>\n",
       "      <td>1920.0</td>\n",
       "      <td>Saturday</td>\n",
       "    </tr>\n",
       "    <tr>\n",
       "      <th>2</th>\n",
       "      <td>2017-11-25 12:00:00</td>\n",
       "      <td>Good</td>\n",
       "      <td>1543.0</td>\n",
       "      <td>Saturday</td>\n",
       "    </tr>\n",
       "    <tr>\n",
       "      <th>3</th>\n",
       "      <td>2017-11-04 10:00:00</td>\n",
       "      <td>Good</td>\n",
       "      <td>2512.0</td>\n",
       "      <td>Saturday</td>\n",
       "    </tr>\n",
       "    <tr>\n",
       "      <th>4</th>\n",
       "      <td>2017-11-11 07:00:00</td>\n",
       "      <td>Good</td>\n",
       "      <td>1440.0</td>\n",
       "      <td>Saturday</td>\n",
       "    </tr>\n",
       "    <tr>\n",
       "      <th>...</th>\n",
       "      <td>...</td>\n",
       "      <td>...</td>\n",
       "      <td>...</td>\n",
       "      <td>...</td>\n",
       "    </tr>\n",
       "    <tr>\n",
       "      <th>1060</th>\n",
       "      <td>2017-11-04 14:00:00</td>\n",
       "      <td>Good</td>\n",
       "      <td>2700.0</td>\n",
       "      <td>Saturday</td>\n",
       "    </tr>\n",
       "    <tr>\n",
       "      <th>1061</th>\n",
       "      <td>2017-11-18 16:00:00</td>\n",
       "      <td>Bad</td>\n",
       "      <td>2186.0</td>\n",
       "      <td>Saturday</td>\n",
       "    </tr>\n",
       "    <tr>\n",
       "      <th>1063</th>\n",
       "      <td>2017-11-25 11:00:00</td>\n",
       "      <td>Good</td>\n",
       "      <td>0.0</td>\n",
       "      <td>Saturday</td>\n",
       "    </tr>\n",
       "    <tr>\n",
       "      <th>1064</th>\n",
       "      <td>2017-11-11 10:00:00</td>\n",
       "      <td>Good</td>\n",
       "      <td>1318.0</td>\n",
       "      <td>Saturday</td>\n",
       "    </tr>\n",
       "    <tr>\n",
       "      <th>1067</th>\n",
       "      <td>2017-11-04 16:00:00</td>\n",
       "      <td>Bad</td>\n",
       "      <td>2834.0</td>\n",
       "      <td>Saturday</td>\n",
       "    </tr>\n",
       "  </tbody>\n",
       "</table>\n",
       "<p>871 rows × 4 columns</p>\n",
       "</div>"
      ],
      "text/plain": [
       "                start_ts weather_conditions  duration_seconds day_of_week\n",
       "0    2017-11-25 16:00:00               Good            2410.0    Saturday\n",
       "1    2017-11-25 14:00:00               Good            1920.0    Saturday\n",
       "2    2017-11-25 12:00:00               Good            1543.0    Saturday\n",
       "3    2017-11-04 10:00:00               Good            2512.0    Saturday\n",
       "4    2017-11-11 07:00:00               Good            1440.0    Saturday\n",
       "...                  ...                ...               ...         ...\n",
       "1060 2017-11-04 14:00:00               Good            2700.0    Saturday\n",
       "1061 2017-11-18 16:00:00                Bad            2186.0    Saturday\n",
       "1063 2017-11-25 11:00:00               Good               0.0    Saturday\n",
       "1064 2017-11-11 10:00:00               Good            1318.0    Saturday\n",
       "1067 2017-11-04 16:00:00                Bad            2834.0    Saturday\n",
       "\n",
       "[871 rows x 4 columns]"
      ]
     },
     "execution_count": 13,
     "metadata": {},
     "output_type": "execute_result"
    }
   ],
   "source": [
    "# Saturday df\n",
    "saturday = airport[airport['day_of_week'] == 'Saturday']\n",
    "saturday"
   ]
  },
  {
   "cell_type": "code",
   "execution_count": 14,
   "metadata": {},
   "outputs": [
    {
     "name": "stdout",
     "output_type": "stream",
     "text": [
      "Bad Weather Days: 148\n",
      "Good Weather Days: 723\n"
     ]
    }
   ],
   "source": [
    "# Split\n",
    "bad = saturday[saturday['weather_conditions'] == 'Bad']\n",
    "good = saturday[saturday['weather_conditions'] == 'Good']\n",
    "print(\"Bad Weather Days:\", len(bad))\n",
    "print(\"Good Weather Days:\", len(good))"
   ]
  },
  {
   "cell_type": "code",
   "execution_count": 15,
   "metadata": {},
   "outputs": [
    {
     "name": "stdout",
     "output_type": "stream",
     "text": [
      "Bad Weather Duration Variance: 564819.443463872\n",
      "Good Weather Duration Variance: 598216.951081022\n"
     ]
    }
   ],
   "source": [
    "# Variance\n",
    "bad_var = bad['duration_seconds'].var()\n",
    "good_var = good['duration_seconds'].var()\n",
    "print(\"Bad Weather Duration Variance:\", bad_var)\n",
    "print(\"Good Weather Duration Variance:\", good_var)"
   ]
  },
  {
   "cell_type": "markdown",
   "metadata": {},
   "source": [
    "### Alpha\n",
    "The significance level, or alpha, of 0.05 is a widely accepted threshold in statistical hypothesis testing. This value implies that there is a 5% risk of concluding that a difference exists when, in fact, it does not. In many research fields, using an alpha of 0.05 strikes a balance between being too lenient and too strict."
   ]
  },
  {
   "cell_type": "code",
   "execution_count": 16,
   "metadata": {},
   "outputs": [
    {
     "name": "stdout",
     "output_type": "stream",
     "text": [
      "pvalue: 7.397770692813658e-08\n",
      "We reject the null hypothesis.\n"
     ]
    }
   ],
   "source": [
    "# Test\n",
    "alpha = 0.05\n",
    "\n",
    "results = st.ttest_ind(bad['duration_seconds'], good['duration_seconds'])\n",
    "\n",
    "print(\"pvalue:\", results.pvalue)\n",
    "\n",
    "if results.pvalue < alpha:\n",
    "    print('We reject the null hypothesis.')\n",
    "else:\n",
    "    print(\"We can't reject the null hypothesis.\")"
   ]
  },
  {
   "cell_type": "markdown",
   "metadata": {},
   "source": [
    "### Summary:\n",
    "This hypothesis test shows that the average ride durations from the Loop to O’Hare on rainy Saturdays are statistically different from those on good weather Saturdays (p-value = 7.4e-08, well below the 0.05 threshold). This result indicates that adverse weather conditions significantly affect ride times, which could be due to slower traffic, increased caution, or other operational challenges on rainy days. For business stakeholders, this finding underscores the importance of adjusting operational strategies during inclement weather such as optimizing driver scheduling, dynamic pricing, and resource allocation—to mitigate delays and maintain service quality. By anticipating longer ride durations on rainy Saturdays, taxi companies can better manage customer expectations and improve overall operational efficiency."
   ]
  },
  {
   "cell_type": "markdown",
   "metadata": {},
   "source": [
    "## Conclusions\n",
    "The analysis of Chicago’s taxi data reveals three key strategic insights. First, market leadership is strongly linked to scale: Flash Cab leads with 19,558 trips, with Taxi Affiliation Services and Medallion Leasing following closely, indicating that larger companies with extensive fleets and robust logistical infrastructures benefit from economies of scale and high customer trust. Smaller operators, like 303 Taxi and 5 Star Taxi, appear to target niche or localized markets, suggesting that strategic investments in fleet expansion and customer service improvements are essential for capturing a larger market share. Second, our examination of neighborhood dropoffs shows that high demand areas such as The Loop, River North, and Streeterville present significant opportunities for targeted service enhancements, catering to a diverse mix of professionals, residents, and tourists. Finally, our hypothesis test comparing ride durations on rainy Saturdays indicates that adverse weather substantially impacts ride times, emphasizing the need for strategic adjustments in scheduling, pricing, and resource allocation during inclement weather to maintain service quality and manage customer expectations."
   ]
  }
 ],
 "metadata": {
  "ExecuteTimeLog": [
   {
    "duration": 520,
    "start_time": "2025-02-07T12:08:05.410Z"
   },
   {
    "duration": 1836,
    "start_time": "2025-02-07T12:08:41.472Z"
   },
   {
    "duration": 296,
    "start_time": "2025-02-07T12:08:54.325Z"
   },
   {
    "duration": 15,
    "start_time": "2025-02-07T12:09:57.161Z"
   },
   {
    "duration": 30,
    "start_time": "2025-02-07T12:12:07.163Z"
   },
   {
    "duration": 41,
    "start_time": "2025-02-07T12:13:24.655Z"
   },
   {
    "duration": 6,
    "start_time": "2025-02-07T12:13:31.497Z"
   },
   {
    "duration": 5,
    "start_time": "2025-02-07T12:13:39.535Z"
   },
   {
    "duration": 19,
    "start_time": "2025-02-07T12:15:20.848Z"
   },
   {
    "duration": 9,
    "start_time": "2025-02-07T12:16:14.825Z"
   },
   {
    "duration": 6,
    "start_time": "2025-02-07T12:16:23.242Z"
   },
   {
    "duration": 6,
    "start_time": "2025-02-07T12:16:31.801Z"
   },
   {
    "duration": 11,
    "start_time": "2025-02-07T12:18:27.825Z"
   },
   {
    "duration": 7,
    "start_time": "2025-02-07T12:34:36.378Z"
   },
   {
    "duration": 731,
    "start_time": "2025-02-07T12:36:45.804Z"
   },
   {
    "duration": 1005,
    "start_time": "2025-02-07T12:37:22.058Z"
   },
   {
    "duration": 1011,
    "start_time": "2025-02-07T12:38:03.504Z"
   },
   {
    "duration": 983,
    "start_time": "2025-02-07T12:38:21.934Z"
   },
   {
    "duration": 954,
    "start_time": "2025-02-07T12:39:26.072Z"
   },
   {
    "duration": 992,
    "start_time": "2025-02-07T12:40:35.971Z"
   },
   {
    "duration": 1135,
    "start_time": "2025-02-07T12:40:42.548Z"
   },
   {
    "duration": 1026,
    "start_time": "2025-02-07T12:42:02.510Z"
   },
   {
    "duration": 992,
    "start_time": "2025-02-07T12:42:49.212Z"
   },
   {
    "duration": 1105,
    "start_time": "2025-02-07T12:44:32.200Z"
   },
   {
    "duration": 1011,
    "start_time": "2025-02-07T12:45:27.606Z"
   },
   {
    "duration": 986,
    "start_time": "2025-02-07T12:45:48.621Z"
   },
   {
    "duration": 1002,
    "start_time": "2025-02-07T12:46:00.959Z"
   },
   {
    "duration": 1006,
    "start_time": "2025-02-07T12:46:30.551Z"
   },
   {
    "duration": 1083,
    "start_time": "2025-02-07T12:46:43.931Z"
   },
   {
    "duration": 1001,
    "start_time": "2025-02-07T12:46:52.355Z"
   },
   {
    "duration": 994,
    "start_time": "2025-02-07T12:48:23.571Z"
   },
   {
    "duration": 985,
    "start_time": "2025-02-07T12:49:47.350Z"
   },
   {
    "duration": 1002,
    "start_time": "2025-02-07T12:49:56.559Z"
   },
   {
    "duration": 1069,
    "start_time": "2025-02-07T12:50:06.898Z"
   },
   {
    "duration": 205,
    "start_time": "2025-02-07T12:52:21.840Z"
   },
   {
    "duration": 17,
    "start_time": "2025-02-07T12:52:46.369Z"
   },
   {
    "duration": 230,
    "start_time": "2025-02-07T12:52:50.019Z"
   },
   {
    "duration": 1090,
    "start_time": "2025-02-07T12:53:08.882Z"
   },
   {
    "duration": 1144,
    "start_time": "2025-02-07T12:53:11.949Z"
   },
   {
    "duration": 1057,
    "start_time": "2025-02-07T12:53:28.314Z"
   },
   {
    "duration": 247,
    "start_time": "2025-02-07T12:53:49.481Z"
   },
   {
    "duration": 9,
    "start_time": "2025-02-07T12:54:45.955Z"
   },
   {
    "duration": 7,
    "start_time": "2025-02-07T12:55:18.511Z"
   },
   {
    "duration": 13,
    "start_time": "2025-02-07T12:55:32.422Z"
   },
   {
    "duration": 3,
    "start_time": "2025-02-07T12:57:11.280Z"
   },
   {
    "duration": 8,
    "start_time": "2025-02-07T12:57:17.746Z"
   },
   {
    "duration": 7,
    "start_time": "2025-02-07T12:57:25.381Z"
   },
   {
    "duration": 7,
    "start_time": "2025-02-07T12:57:38.490Z"
   },
   {
    "duration": 10,
    "start_time": "2025-02-07T13:03:07.994Z"
   },
   {
    "duration": 7,
    "start_time": "2025-02-07T13:03:31.772Z"
   },
   {
    "duration": 9,
    "start_time": "2025-02-07T13:03:45.385Z"
   },
   {
    "duration": 11,
    "start_time": "2025-02-07T13:04:52.440Z"
   },
   {
    "duration": 354,
    "start_time": "2025-02-07T13:06:24.774Z"
   },
   {
    "duration": 6,
    "start_time": "2025-02-07T13:06:55.700Z"
   },
   {
    "duration": 4,
    "start_time": "2025-02-07T13:08:06.905Z"
   },
   {
    "duration": 5,
    "start_time": "2025-02-07T13:08:55.118Z"
   },
   {
    "duration": 8,
    "start_time": "2025-02-07T13:09:04.225Z"
   },
   {
    "duration": 12,
    "start_time": "2025-02-07T13:09:05.965Z"
   },
   {
    "duration": 5,
    "start_time": "2025-02-07T13:09:08.307Z"
   },
   {
    "duration": 4,
    "start_time": "2025-02-07T13:10:50.770Z"
   },
   {
    "duration": 4,
    "start_time": "2025-02-07T13:12:26.208Z"
   },
   {
    "duration": 4,
    "start_time": "2025-02-07T13:14:41.073Z"
   },
   {
    "duration": 765,
    "start_time": "2025-02-07T13:22:26.814Z"
   },
   {
    "duration": 30,
    "start_time": "2025-02-07T13:22:27.582Z"
   },
   {
    "duration": 18,
    "start_time": "2025-02-07T13:22:27.614Z"
   },
   {
    "duration": 9,
    "start_time": "2025-02-07T13:22:27.635Z"
   },
   {
    "duration": 5,
    "start_time": "2025-02-07T13:22:27.645Z"
   },
   {
    "duration": 6,
    "start_time": "2025-02-07T13:22:27.652Z"
   },
   {
    "duration": 35,
    "start_time": "2025-02-07T13:22:27.659Z"
   },
   {
    "duration": 1032,
    "start_time": "2025-02-07T13:22:27.695Z"
   },
   {
    "duration": 7,
    "start_time": "2025-02-07T13:22:28.729Z"
   },
   {
    "duration": 249,
    "start_time": "2025-02-07T13:22:28.740Z"
   },
   {
    "duration": 9,
    "start_time": "2025-02-07T13:22:28.991Z"
   },
   {
    "duration": 10,
    "start_time": "2025-02-07T13:22:29.002Z"
   },
   {
    "duration": 5,
    "start_time": "2025-02-07T13:22:29.014Z"
   },
   {
    "duration": 4,
    "start_time": "2025-02-07T13:22:29.020Z"
   },
   {
    "duration": 5,
    "start_time": "2025-02-07T13:22:29.026Z"
   },
   {
    "duration": 157,
    "start_time": "2025-02-07T17:08:31.797Z"
   },
   {
    "duration": 2566,
    "start_time": "2025-02-07T17:08:37.234Z"
   },
   {
    "duration": 41,
    "start_time": "2025-02-07T17:08:39.803Z"
   },
   {
    "duration": 18,
    "start_time": "2025-02-07T17:08:39.846Z"
   },
   {
    "duration": 10,
    "start_time": "2025-02-07T17:08:39.866Z"
   },
   {
    "duration": 6,
    "start_time": "2025-02-07T17:08:39.879Z"
   },
   {
    "duration": 6,
    "start_time": "2025-02-07T17:08:39.887Z"
   },
   {
    "duration": 19,
    "start_time": "2025-02-07T17:08:39.894Z"
   },
   {
    "duration": 1037,
    "start_time": "2025-02-07T17:08:39.915Z"
   },
   {
    "duration": 7,
    "start_time": "2025-02-07T17:08:40.954Z"
   },
   {
    "duration": 254,
    "start_time": "2025-02-07T17:08:40.965Z"
   },
   {
    "duration": 171,
    "start_time": "2025-02-07T17:08:41.221Z"
   },
   {
    "duration": 15,
    "start_time": "2025-02-07T17:08:41.395Z"
   },
   {
    "duration": 11,
    "start_time": "2025-02-07T17:08:41.411Z"
   },
   {
    "duration": 4,
    "start_time": "2025-02-07T17:08:41.423Z"
   },
   {
    "duration": 4,
    "start_time": "2025-02-07T17:08:41.429Z"
   },
   {
    "duration": 4,
    "start_time": "2025-02-07T17:08:41.435Z"
   },
   {
    "duration": 148,
    "start_time": "2025-02-07T17:08:53.493Z"
   },
   {
    "duration": 144,
    "start_time": "2025-02-07T17:09:03.320Z"
   },
   {
    "duration": 160,
    "start_time": "2025-02-07T18:40:07.895Z"
   },
   {
    "duration": 2457,
    "start_time": "2025-02-07T18:40:12.531Z"
   },
   {
    "duration": 34,
    "start_time": "2025-02-07T18:40:14.991Z"
   },
   {
    "duration": 18,
    "start_time": "2025-02-07T18:40:15.026Z"
   },
   {
    "duration": 9,
    "start_time": "2025-02-07T18:40:15.045Z"
   },
   {
    "duration": 5,
    "start_time": "2025-02-07T18:40:15.057Z"
   },
   {
    "duration": 6,
    "start_time": "2025-02-07T18:40:15.063Z"
   },
   {
    "duration": 9,
    "start_time": "2025-02-07T18:40:15.072Z"
   },
   {
    "duration": 6,
    "start_time": "2025-02-07T18:40:15.082Z"
   },
   {
    "duration": 0,
    "start_time": "2025-02-07T18:40:15.089Z"
   },
   {
    "duration": 0,
    "start_time": "2025-02-07T18:40:15.090Z"
   },
   {
    "duration": 0,
    "start_time": "2025-02-07T18:40:15.092Z"
   },
   {
    "duration": 0,
    "start_time": "2025-02-07T18:40:15.093Z"
   },
   {
    "duration": 0,
    "start_time": "2025-02-07T18:40:15.094Z"
   },
   {
    "duration": 0,
    "start_time": "2025-02-07T18:40:15.095Z"
   },
   {
    "duration": 0,
    "start_time": "2025-02-07T18:40:15.096Z"
   },
   {
    "duration": 0,
    "start_time": "2025-02-07T18:40:15.097Z"
   },
   {
    "duration": 1070,
    "start_time": "2025-02-07T18:44:29.226Z"
   },
   {
    "duration": 140,
    "start_time": "2025-02-07T18:46:19.839Z"
   },
   {
    "duration": 227,
    "start_time": "2025-02-07T18:46:31.830Z"
   },
   {
    "duration": 213,
    "start_time": "2025-02-07T18:46:56.541Z"
   },
   {
    "duration": 194,
    "start_time": "2025-02-07T18:47:20.769Z"
   },
   {
    "duration": 252,
    "start_time": "2025-02-07T18:47:39.668Z"
   },
   {
    "duration": 192,
    "start_time": "2025-02-07T18:48:03.461Z"
   },
   {
    "duration": 753,
    "start_time": "2025-02-07T18:49:01.720Z"
   },
   {
    "duration": 27,
    "start_time": "2025-02-07T18:49:02.476Z"
   },
   {
    "duration": 22,
    "start_time": "2025-02-07T18:49:02.505Z"
   },
   {
    "duration": 22,
    "start_time": "2025-02-07T18:49:02.529Z"
   },
   {
    "duration": 6,
    "start_time": "2025-02-07T18:49:02.554Z"
   },
   {
    "duration": 7,
    "start_time": "2025-02-07T18:49:02.562Z"
   },
   {
    "duration": 15,
    "start_time": "2025-02-07T18:49:02.573Z"
   },
   {
    "duration": 242,
    "start_time": "2025-02-07T18:49:02.590Z"
   },
   {
    "duration": 7,
    "start_time": "2025-02-07T18:49:02.834Z"
   },
   {
    "duration": 166,
    "start_time": "2025-02-07T18:49:02.843Z"
   },
   {
    "duration": 163,
    "start_time": "2025-02-07T18:49:03.011Z"
   },
   {
    "duration": 9,
    "start_time": "2025-02-07T18:49:03.176Z"
   },
   {
    "duration": 12,
    "start_time": "2025-02-07T18:49:03.187Z"
   },
   {
    "duration": 5,
    "start_time": "2025-02-07T18:49:03.203Z"
   },
   {
    "duration": 4,
    "start_time": "2025-02-07T18:49:03.210Z"
   },
   {
    "duration": 4,
    "start_time": "2025-02-07T18:49:03.244Z"
   }
  ],
  "kernelspec": {
   "display_name": "Python 3 (ipykernel)",
   "language": "python",
   "name": "python3"
  },
  "language_info": {
   "codemirror_mode": {
    "name": "ipython",
    "version": 3
   },
   "file_extension": ".py",
   "mimetype": "text/x-python",
   "name": "python",
   "nbconvert_exporter": "python",
   "pygments_lexer": "ipython3",
   "version": "3.12.5"
  },
  "toc": {
   "base_numbering": 1,
   "nav_menu": {},
   "number_sections": true,
   "sideBar": true,
   "skip_h1_title": true,
   "title_cell": "Table of Contents",
   "title_sidebar": "Contents",
   "toc_cell": false,
   "toc_position": {},
   "toc_section_display": true,
   "toc_window_display": false
  }
 },
 "nbformat": 4,
 "nbformat_minor": 4
}
